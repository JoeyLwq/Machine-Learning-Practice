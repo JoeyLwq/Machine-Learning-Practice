{
 "cells": [
  {
   "cell_type": "code",
   "execution_count": 1,
   "metadata": {},
   "outputs": [],
   "source": [
    "import numpy as np\n",
    "import matplotlib.pyplot as plt\n",
    "plt.rcParams['font.sans-serif'] = ['SimHei'] #用来正常显示中文标签\n",
    "plt.rcParams['axes.unicode_minus'] = False #用来正向显示负号\n",
    "import helper"
   ]
  },
  {
   "cell_type": "code",
   "execution_count": 2,
   "metadata": {},
   "outputs": [
    {
     "name": "stdout",
     "output_type": "stream",
     "text": [
      "函数包括Judge(X,y,w)、data(N, d, data_range, w_f, seed)、plot_helper(X, y, w_g, w_f)\n"
     ]
    }
   ],
   "source": [
    "hlp = helper.Helper()"
   ]
  },
  {
   "cell_type": "code",
   "execution_count": 3,
   "metadata": {},
   "outputs": [],
   "source": [
    "def PLA(X, y, r=1):\n",
    "    \"\"\"\n",
    "    利用PLA更新，如果r=1，则顺序取点，否则随机取点\n",
    "    \"\"\"\n",
    "\n",
    "    iters = 0 #记录次数\n",
    "    \n",
    "    w = np.zeros(X.shape[1]) #初始化w = [0,0,0]\n",
    "    n = X.shape[0] #数据数量\n",
    "    \n",
    "    if r == 1:\n",
    "        while hlp.Judge(X, y, w) == 0:\n",
    "            for i in range(n):\n",
    "                if X[i,:].dot(w) * y[i] <= 0:\n",
    "                    w += y[i] * X[i,:]\n",
    "                    iters += 1\n",
    "\n",
    "    else:\n",
    "        while hlp.Judge(X, y, w) == 0:\n",
    "            i = np.random.randint(0,N)\n",
    "            if X[i,:].dot(w) * y[i] <= 0:\n",
    "                w += y[i] * X[i,:]\n",
    "                iters += 1\n",
    "    \n",
    "    print('共经过了{}次迭代,'.format(iters) + '最终的w为:',w)\n",
    "    return w"
   ]
  },
  {
   "cell_type": "code",
   "execution_count": 4,
   "metadata": {},
   "outputs": [],
   "source": [
    "w_f = [-5, 1, 1]\n",
    "data_range = [2, 3]\n",
    "X, y = hlp.data(100, 2, data_range, w_f, 1126)"
   ]
  },
  {
   "cell_type": "code",
   "execution_count": 5,
   "metadata": {},
   "outputs": [
    {
     "name": "stdout",
     "output_type": "stream",
     "text": [
      "共经过了2979次迭代,最终的w为: [-99.          19.79731078  19.75051272]\n"
     ]
    },
    {
     "data": {
      "image/png": "[encoded data removed]",
      "text/plain": [
       "<Figure size 432x288 with 1 Axes>"
      ]
     },
     "metadata": {
      "needs_background": "light"
     },
     "output_type": "display_data"
    }
   ],
   "source": [
    "w_g = PLA(X, y)\n",
    "hlp.plot_helper(X, y, w_g, w_f)"
   ]
  },
  {
   "cell_type": "markdown",
   "metadata": {},
   "source": [
    "* 用iris数据试试"
   ]
  },
  {
   "cell_type": "code",
   "execution_count": 6,
   "metadata": {},
   "outputs": [],
   "source": [
    "import pandas as pd\n",
    "from sklearn.datasets import load_iris"
   ]
  },
  {
   "cell_type": "code",
   "execution_count": 7,
   "metadata": {},
   "outputs": [],
   "source": [
    "#load_data\n",
    "iris = load_iris()\n",
    "df = pd.DataFrame(iris.data, columns=iris.feature_names)\n",
    "df['label'] = iris.target"
   ]
  },
  {
   "cell_type": "code",
   "execution_count": 12,
   "metadata": {},
   "outputs": [],
   "source": [
    "X_iris = np.array(df)[:100, [0, 1]]\n",
    "X_iris = np.c_[np.ones(X_iris.shape[0]), X_iris]\n",
    "y_iris = np.array(df)[:100, -1]\n",
    "y_iris = np.array([1 if i==1 else -1 for i in y_iris])"
   ]
  },
  {
   "cell_type": "code",
   "execution_count": 13,
   "metadata": {},
   "outputs": [
    {
     "name": "stdout",
     "output_type": "stream",
     "text": [
      "共经过了1562次迭代,最终的w为: [-126.    79.8 -101.4]\n"
     ]
    }
   ],
   "source": [
    "w_g = PLA(X_iris, y_iris)"
   ]
  },
  {
   "cell_type": "code",
   "execution_count": 14,
   "metadata": {},
   "outputs": [
    {
     "data": {
      "image/png": "[encoded data removed]",
      "text/plain": [
       "<Figure size 432x288 with 1 Axes>"
      ]
     },
     "metadata": {
      "needs_background": "light"
     },
     "output_type": "display_data"
    }
   ],
   "source": [
    "hlp.plot_helper(X_iris, y_iris, w_g)"
   ]
  }
 ],
 "metadata": {
  "kernelspec": {
   "display_name": "Python 3",
   "language": "python",
   "name": "python3"
  },
  "language_info": {
   "codemirror_mode": {
    "name": "ipython",
    "version": 3
   },
   "file_extension": ".py",
   "mimetype": "text/x-python",
   "name": "python",
   "nbconvert_exporter": "python",
   "pygments_lexer": "ipython3",
   "version": "3.6.7"
  },
  "toc": {
   "base_numbering": 1,
   "nav_menu": {},
   "number_sections": true,
   "sideBar": true,
   "skip_h1_title": false,
   "title_cell": "Table of Contents",
   "title_sidebar": "Contents",
   "toc_cell": false,
   "toc_position": {},
   "toc_section_display": true,
   "toc_window_display": false
  }
 },
 "nbformat": 4,
 "nbformat_minor": 2
}
