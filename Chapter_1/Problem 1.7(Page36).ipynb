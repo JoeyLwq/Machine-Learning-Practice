{
 "cells": [
  {
   "cell_type": "code",
   "execution_count": 1,
   "metadata": {},
   "outputs": [],
   "source": [
    "import numpy as np\n",
    "import matplotlib.pyplot as plt\n",
    "from scipy.special import comb\n",
    "plt.rcParams['font.sans-serif']=['SimHei'] #用来正常显示中文标签\n",
    "plt.rcParams['axes.unicode_minus']=False #用来正常显示负号"
   ]
  },
  {
   "cell_type": "code",
   "execution_count": 3,
   "metadata": {},
   "outputs": [
    {
     "data": {
      "image/png": "[encoded data removed]",
      "text/plain": [
       "<Figure size 432x288 with 1 Axes>"
      ]
     },
     "metadata": {
      "needs_background": "light"
     },
     "output_type": "display_data"
    }
   ],
   "source": [
    "def Pmax(N, x, u):\n",
    "\n",
    "    low = int(3 - 6*x)\n",
    "\n",
    "    up = int(3 + 6*x)\n",
    "\n",
    "    s = 0\n",
    "\n",
    "    for k in range(low, up+1):\n",
    "\n",
    "        s += comb(N, k) * (u ** k) * ((1 - u) ** (N - k))\n",
    "\n",
    "    return 1 - s ** 2\n",
    "\n",
    "\n",
    "\n",
    "x = np.arange(0, 1, 0.01)\n",
    "\n",
    "y1 = np.array([Pmax(6, i, 0.5) for i in x])\n",
    "\n",
    "y2 = 2 * np.exp(-2 * 6 * (x ** 2))\n",
    "\n",
    "\n",
    "\n",
    "plt.plot(x, y1, label=\"Pmax\")\n",
    "\n",
    "plt.plot(x, y2, label=\"Hoeffding\")\n",
    "\n",
    "plt.xlabel(\"eplison\")\n",
    "\n",
    "plt.ylabel(\"P\")\n",
    "\n",
    "plt.legend()\n",
    "\n",
    "plt.show()"
   ]
  },
  {
   "cell_type": "code",
   "execution_count": null,
   "metadata": {},
   "outputs": [],
   "source": []
  }
 ],
 "metadata": {
  "kernelspec": {
   "display_name": "Python 3",
   "language": "python",
   "name": "python3"
  },
  "language_info": {
   "codemirror_mode": {
    "name": "ipython",
    "version": 3
   },
   "file_extension": ".py",
   "mimetype": "text/x-python",
   "name": "python",
   "nbconvert_exporter": "python",
   "pygments_lexer": "ipython3",
   "version": "3.6.7"
  },
  "toc": {
   "base_numbering": 1,
   "nav_menu": {},
   "number_sections": true,
   "sideBar": true,
   "skip_h1_title": false,
   "title_cell": "Table of Contents",
   "title_sidebar": "Contents",
   "toc_cell": false,
   "toc_position": {},
   "toc_section_display": true,
   "toc_window_display": false
  }
 },
 "nbformat": 4,
 "nbformat_minor": 2
}
