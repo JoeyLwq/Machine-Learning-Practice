{
 "cells": [
  {
   "cell_type": "code",
   "execution_count": 1,
   "metadata": {},
   "outputs": [],
   "source": [
    "import numpy as np\n",
    "import matplotlib.pyplot as plt\n",
    "plt.rcParams['font.sans-serif']=['SimHei'] #用来正常显示中文标签\n",
    "plt.rcParams['axes.unicode_minus']=False #用来正常显示负号"
   ]
  },
  {
   "cell_type": "code",
   "execution_count": 2,
   "metadata": {},
   "outputs": [],
   "source": [
    "#一次实验，n枚硬币，1为正面，0为反面，返回正面次数\n",
    "def simu(n):\n",
    "    X = np.random.randint(0, 2, (n,10)) #n枚硬币，投10次\n",
    "    X1 = np.sum(X, axis=1) #行的和，即每枚硬币朝上的次数\n",
    "    C1 = X1[0]  #第一枚硬币\n",
    "    Crand = X1[np.random.randint(0,n)]  #随机一枚硬币\n",
    "    Cmin = np.min(X1)  #正面朝上次数最少的硬币\n",
    "    return C1,Crand,Cmin  #返回题目要求的三枚硬币结果"
   ]
  },
  {
   "cell_type": "code",
   "execution_count": 9,
   "metadata": {},
   "outputs": [],
   "source": [
    "#记录三枚(种)硬币的实验结果\n",
    "R1 = [0] * 11  #可能包含0次到10次11种情况\n",
    "Rrand = [0] * 11\n",
    "Rmin = [0] * 11\n",
    "#1000枚硬币\n",
    "n = 1000\n",
    "#10000次实验\n",
    "m = 10000\n",
    "for i in range(m):\n",
    "    C1, Crand, Cmin = simu(1000)\n",
    "    R1[C1] += 1\n",
    "    Rrand[Crand] += 1\n",
    "    Rmin[Cmin] += 1"
   ]
  },
  {
   "cell_type": "code",
   "execution_count": 7,
   "metadata": {},
   "outputs": [],
   "source": [
    "#总计朝上的次数\n",
    "def total(R):\n",
    "    s = 0\n",
    "    for i in range(len(R)):\n",
    "        s += i * R[i]\n",
    "    return s"
   ]
  },
  {
   "cell_type": "markdown",
   "metadata": {},
   "source": [
    "* 1、三枚硬币正面朝上的平均数？  \n",
    "注：每枚硬币共投了10*10000次，即100000次。"
   ]
  },
  {
   "cell_type": "code",
   "execution_count": 10,
   "metadata": {},
   "outputs": [
    {
     "name": "stdout",
     "output_type": "stream",
     "text": [
      "三枚硬币正面朝上的平均数为34479.666666666664次\n"
     ]
    }
   ],
   "source": [
    "T1 = total(R1)\n",
    "Trand = total(Rrand)\n",
    "Tmin = total(Rmin)\n",
    "print('三枚硬币正面朝上的平均数为{}次'.format((T1+Trand+Tmin)/3))"
   ]
  },
  {
   "cell_type": "markdown",
   "metadata": {},
   "source": [
    "* 2、三枚硬币正面朝上的概率分别是多少？"
   ]
  },
  {
   "cell_type": "code",
   "execution_count": 16,
   "metadata": {},
   "outputs": [
    {
     "name": "stdout",
     "output_type": "stream",
     "text": [
      "硬币C1朝上的概率为： 0.50041\n",
      "硬币Crand朝上的概率为： 0.49688\n",
      "硬币Cmin朝上的概率为： 0.0371\n"
     ]
    }
   ],
   "source": [
    "V1 = total(R1) / 100000\n",
    "Vrand = total(Rrand) / 100000\n",
    "Vmin = total(Rmin) /100000\n",
    "print('硬币C1朝上的概率为：',V1)\n",
    "print('硬币Crand朝上的概率为：',Vrand)\n",
    "print('硬币Cmin朝上的概率为：',Vmin)"
   ]
  },
  {
   "cell_type": "code",
   "execution_count": 23,
   "metadata": {},
   "outputs": [
    {
     "data": {
      "text/plain": [
       "Text(0.5, 1.0, '硬币Cmin结果分布')"
      ]
     },
     "execution_count": 23,
     "metadata": {},
     "output_type": "execute_result"
    },
    {
     "data": {
      "image/png": "[encoded data removed]",
      "text/plain": [
       "<Figure size 432x288 with 3 Axes>"
      ]
     },
     "metadata": {
      "needs_background": "light"
     },
     "output_type": "display_data"
    }
   ],
   "source": [
    "fig = plt.figure()\n",
    "ax1 = fig.add_subplot(311)\n",
    "ax1.bar(range(11),R1)\n",
    "ax1.set_title('硬币C1结果分布')\n",
    "ax2 = fig.add_subplot(312)\n",
    "ax2.bar(range(11),Rrand)\n",
    "ax2.set_title('硬币Crand结果分布')\n",
    "ax3 = fig.add_subplot(313)\n",
    "ax3.bar(range(11),Rmin)\n",
    "ax3.set_title('硬币Cmin结果分布')"
   ]
  },
  {
   "cell_type": "markdown",
   "metadata": {},
   "source": [
    "* 3"
   ]
  },
  {
   "cell_type": "code",
   "execution_count": 25,
   "metadata": {},
   "outputs": [],
   "source": [
    "epsilon = np.arange(0, 2, 0.01)\n",
    "size = epsilon.shape[0]\n",
    "\n",
    "Z1 = np.zeros(size)\n",
    "Zrand = np.zeros(size)\n",
    "Zmin = np.zeros(size)"
   ]
  },
  {
   "cell_type": "code",
   "execution_count": 26,
   "metadata": {},
   "outputs": [],
   "source": [
    "#计算P(|u-v|>epsilon)\n",
    "for i in range(size):\n",
    "    for j in range(11):\n",
    "        if abs((j - 5) / 10.0)> epsilon[i]:\n",
    "            Z1[i] += R1[j]\n",
    "            Zrand[i] += Rrand[j]\n",
    "            Zmin[i] += Rmin[j]\n",
    "Z1 = Z1 / m\n",
    "Zrand = Zrand / m\n",
    "Zmin = Zmin / m"
   ]
  },
  {
   "cell_type": "code",
   "execution_count": 29,
   "metadata": {},
   "outputs": [],
   "source": [
    "#Hoeffding上界\n",
    "Z = np.array([2 * np.exp(-2*(i**2)*10) for i in epsilon])"
   ]
  },
  {
   "cell_type": "code",
   "execution_count": 30,
   "metadata": {},
   "outputs": [
    {
     "data": {
      "image/png": "[encoded data removed]",
      "text/plain": [
       "<Figure size 432x288 with 1 Axes>"
      ]
     },
     "metadata": {
      "needs_background": "light"
     },
     "output_type": "display_data"
    }
   ],
   "source": [
    "plt.plot(epsilon, Z, label='Hoeffding上界')\n",
    "plt.plot(epsilon, Z1, label='P(|v1-u|)')\n",
    "plt.plot(epsilon, Zrand, label='P(|vrand-u|)')\n",
    "plt.plot(epsilon, Zmin, label='P(|vmin-u|)')\n",
    "plt.xlabel('epsilon')\n",
    "plt.ylabel('概率')\n",
    "plt.legend()\n",
    "plt.show()"
   ]
  },
  {
   "cell_type": "code",
   "execution_count": null,
   "metadata": {},
   "outputs": [],
   "source": []
  }
 ],
 "metadata": {
  "kernelspec": {
   "display_name": "Python 3",
   "language": "python",
   "name": "python3"
  },
  "language_info": {
   "codemirror_mode": {
    "name": "ipython",
    "version": 3
   },
   "file_extension": ".py",
   "mimetype": "text/x-python",
   "name": "python",
   "nbconvert_exporter": "python",
   "pygments_lexer": "ipython3",
   "version": "3.6.7"
  },
  "toc": {
   "base_numbering": 1,
   "nav_menu": {},
   "number_sections": true,
   "sideBar": true,
   "skip_h1_title": false,
   "title_cell": "Table of Contents",
   "title_sidebar": "Contents",
   "toc_cell": false,
   "toc_position": {},
   "toc_section_display": true,
   "toc_window_display": false
  }
 },
 "nbformat": 4,
 "nbformat_minor": 2
}
